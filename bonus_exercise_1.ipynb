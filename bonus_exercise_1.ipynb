{
  "nbformat": 4,
  "nbformat_minor": 0,
  "metadata": {
    "colab": {
      "name": "bonus_exercise_1.ipynb",
      "version": "0.3.2",
      "provenance": [],
      "include_colab_link": true
    }
  },
  "cells": [
    {
      "cell_type": "markdown",
      "metadata": {
        "id": "view-in-github",
        "colab_type": "text"
      },
      "source": [
        "[View in Colaboratory](https://colab.research.google.com/github/jangeloni/challenge_amadeus/blob/bonus_exercise_1/bonus_exercise_1.ipynb)"
      ]
    },
    {
      "metadata": {
        "id": "nAzIKDKVtbvO",
        "colab_type": "code",
        "colab": {
          "base_uri": "https://localhost:8080/",
          "height": 54
        },
        "outputId": "d1574dee-541c-49c5-be87-3eb2eb23fb4d"
      },
      "cell_type": "code",
      "source": [
        "\"\"\"\n",
        "Amadeus Challenge : Data Scientist Position\n",
        "Author            : Angeloni Julien\n",
        "Date Creation     : 10/09/2018\n",
        "\n",
        "Bonus exercise 1 - Match Searches with Bookings\n",
        "\n",
        "Data              : bookings.csv & searches.csv\n",
        "\"\"\""
      ],
      "execution_count": 1,
      "outputs": [
        {
          "output_type": "execute_result",
          "data": {
            "text/plain": [
              "'\\nAmadeus Challenge : Data Scientist Position\\nAuthor            : Angeloni Julien\\nDate Creation     : 10/09/2018\\n\\nBonus exercise 1 - Match Searches with Bookings\\n\\nData              : bookings.csv & searches.csv\\n'"
            ]
          },
          "metadata": {
            "tags": []
          },
          "execution_count": 1
        }
      ]
    },
    {
      "metadata": {
        "id": "xBkTWN6XwIaw",
        "colab_type": "code",
        "colab": {}
      },
      "cell_type": "code",
      "source": [
        "#LIBRAIRIES\n",
        "import pandas as pd\n",
        "from google.colab import drive"
      ],
      "execution_count": 0,
      "outputs": []
    },
    {
      "metadata": {
        "id": "A6iT_-tXwOyP",
        "colab_type": "code",
        "colab": {
          "base_uri": "https://localhost:8080/",
          "height": 34
        },
        "outputId": "5a74c589-b5e4-4ef9-a26a-95997440de58"
      },
      "cell_type": "code",
      "source": [
        "#IMPORT FILES\n",
        "drive.mount('/content/gdrive')"
      ],
      "execution_count": 4,
      "outputs": [
        {
          "output_type": "stream",
          "text": [
            "Mounted at /content/gdrive\n"
          ],
          "name": "stdout"
        }
      ]
    },
    {
      "metadata": {
        "id": "e59ZMRe86pV-",
        "colab_type": "code",
        "colab": {}
      },
      "cell_type": "code",
      "source": [
        ""
      ],
      "execution_count": 0,
      "outputs": []
    }
  ]
}