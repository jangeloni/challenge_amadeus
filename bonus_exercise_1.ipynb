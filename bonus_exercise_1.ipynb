{
  "nbformat": 4,
  "nbformat_minor": 0,
  "metadata": {
    "colab": {
      "name": "bonus_exercise_1.ipynb",
      "version": "0.3.2",
      "provenance": []
    }
  },
  "cells": [
    {
      "metadata": {
        "id": "nAzIKDKVtbvO",
        "colab_type": "code",
        "colab": {
          "base_uri": "https://localhost:8080/",
          "height": 54
        },
        "outputId": "d1574dee-541c-49c5-be87-3eb2eb23fb4d"
      },
      "cell_type": "code",
      "source": [
        "\"\"\"\n",
        "Amadeus Challenge : Data Scientist Position\n",
        "Author            : Angeloni Julien\n",
        "Date Creation     : 10/09/2018\n",
        "\n",
        "Bonus exercise 1 - Match Searches with Bookings\n",
        "\n",
        "Data              : bookings.csv & searches.csv\n",
        "\"\"\""
      ],
      "execution_count": 1,
      "outputs": [
        {
          "output_type": "execute_result",
          "data": {
            "text/plain": [
              "'\\nAmadeus Challenge : Data Scientist Position\\nAuthor            : Angeloni Julien\\nDate Creation     : 10/09/2018\\n\\nBonus exercise 1 - Match Searches with Bookings\\n\\nData              : bookings.csv & searches.csv\\n'"
            ]
          },
          "metadata": {
            "tags": []
          },
          "execution_count": 1
        }
      ]
    },
    {
      "metadata": {
        "id": "xBkTWN6XwIaw",
        "colab_type": "code",
        "colab": {}
      },
      "cell_type": "code",
      "source": [
        "#LIBRAIRIES\n",
        "import pandas as pd\n",
        "from google.colab import drive"
      ],
      "execution_count": 0,
      "outputs": []
    },
    {
      "metadata": {
        "id": "A6iT_-tXwOyP",
        "colab_type": "code",
        "colab": {
          "base_uri": "https://localhost:8080/",
          "height": 34
        },
        "outputId": "5a74c589-b5e4-4ef9-a26a-95997440de58"
      },
      "cell_type": "code",
      "source": [
        "#IMPORT FILES\n",
        "drive.mount('/content/gdrive')"
      ],
      "execution_count": 4,
      "outputs": [
        {
          "output_type": "stream",
          "text": [
            "Mounted at /content/gdrive\n"
          ],
          "name": "stdout"
        }
      ]
    },
    {
      "metadata": {
        "id": "e59ZMRe86pV-",
        "colab_type": "code",
        "colab": {}
      },
      "cell_type": "code",
      "source": [
        "# GLOBAL VARIABLES\n",
        "SEARCHES = '/content/gdrive/My Drive/Colab Notebooks/searches.csv'\n",
        "BOOKINGS = '/content/gdrive/My Drive/Colab Notebooks/bookings.csv'"
      ],
      "execution_count": 0,
      "outputs": []
    },
    {
      "metadata": {
        "id": "koi1DqQ584kQ",
        "colab_type": "code",
        "colab": {}
      },
      "cell_type": "code",
      "source": [
        "#USEFUL DATAFRAME\n",
        "DF_SEARCHES_ARCH = pd.read_csv(SEARCHES, error_bad_lines=False, encoding='UTF8', sep='^', nrows=1)\n",
        "DF_BOOKINGS_ARCH = pd.read_csv(BOOKINGS, error_bad_lines=False, encoding='UTF8', sep='^', nrows=1)"
      ],
      "execution_count": 0,
      "outputs": []
    },
    {
      "metadata": {
        "id": "K8_XY6DR9Q50",
        "colab_type": "code",
        "colab": {
          "base_uri": "https://localhost:8080/",
          "height": 1666
        },
        "outputId": "94f2b394-b017-462a-ae08-38aaa8e8f223"
      },
      "cell_type": "code",
      "source": [
        "#PRINT ARCHITECTURE\n",
        "print(\"***** SEARCHES ARCHITECTURE *****\")\n",
        "DF_SEARCHES_ARCH.info()\n",
        "print('\\n')\n",
        "print(\"***** BOOKINGS ARCHITECTURE *****\")\n",
        "DF_BOOKINGS_ARCH.info()"
      ],
      "execution_count": 11,
      "outputs": [
        {
          "output_type": "stream",
          "text": [
            "***** SEARCHES ARCHITECTURE *****\n",
            "<class 'pandas.core.frame.DataFrame'>\n",
            "RangeIndex: 1 entries, 0 to 0\n",
            "Data columns (total 45 columns):\n",
            "Date                 1 non-null object\n",
            "Time                 1 non-null object\n",
            "TxnCode              1 non-null object\n",
            "OfficeID             1 non-null object\n",
            "Country              1 non-null object\n",
            "Origin               1 non-null object\n",
            "Destination          1 non-null object\n",
            "RoundTrip            1 non-null int64\n",
            "NbSegments           1 non-null int64\n",
            "Seg1Departure        1 non-null object\n",
            "Seg1Arrival          1 non-null object\n",
            "Seg1Date             1 non-null object\n",
            "Seg1Carrier          1 non-null object\n",
            "Seg1BookingCode      0 non-null float64\n",
            "Seg2Departure        1 non-null object\n",
            "Seg2Arrival          1 non-null object\n",
            "Seg2Date             1 non-null object\n",
            "Seg2Carrier          1 non-null object\n",
            "Seg2BookingCode      0 non-null float64\n",
            "Seg3Departure        0 non-null float64\n",
            "Seg3Arrival          0 non-null float64\n",
            "Seg3Date             0 non-null float64\n",
            "Seg3Carrier          0 non-null float64\n",
            "Seg3BookingCode      0 non-null float64\n",
            "Seg4Departure        0 non-null float64\n",
            "Seg4Arrival          0 non-null float64\n",
            "Seg4Date             0 non-null float64\n",
            "Seg4Carrier          0 non-null float64\n",
            "Seg4BookingCode      0 non-null float64\n",
            "Seg5Departure        0 non-null float64\n",
            "Seg5Arrival          0 non-null float64\n",
            "Seg5Date             0 non-null float64\n",
            "Seg5Carrier          0 non-null float64\n",
            "Seg5BookingCode      0 non-null float64\n",
            "Seg6Departure        0 non-null float64\n",
            "Seg6Arrival          0 non-null float64\n",
            "Seg6Date             0 non-null float64\n",
            "Seg6Carrier          0 non-null float64\n",
            "Seg6BookingCode      0 non-null float64\n",
            "From                 1 non-null object\n",
            "IsPublishedForNeg    1 non-null int64\n",
            "IsFromInternet       1 non-null int64\n",
            "IsFromVista          1 non-null int64\n",
            "TerminalID           1 non-null object\n",
            "InternetOffice       1 non-null object\n",
            "dtypes: float64(22), int64(5), object(18)\n",
            "memory usage: 432.0+ bytes\n",
            "\n",
            "\n",
            "***** BOOKINGS ARCHITECTURE *****\n",
            "<class 'pandas.core.frame.DataFrame'>\n",
            "RangeIndex: 1 entries, 0 to 0\n",
            "Data columns (total 38 columns):\n",
            "act_date               1 non-null object\n",
            "source                 1 non-null object\n",
            "pos_ctry               1 non-null object\n",
            "pos_iata               1 non-null object\n",
            "pos_oid                1 non-null object\n",
            "rloc                   1 non-null object\n",
            "cre_date               1 non-null object\n",
            "duration               1 non-null int64\n",
            "distance               1 non-null int64\n",
            "dep_port               1 non-null object\n",
            "dep_city               1 non-null object\n",
            "dep_ctry               1 non-null object\n",
            "arr_port               1 non-null object\n",
            "arr_city               1 non-null object\n",
            "arr_ctry               1 non-null object\n",
            "lst_port               1 non-null object\n",
            "lst_city               1 non-null object\n",
            "lst_ctry               1 non-null object\n",
            "brd_port               1 non-null object\n",
            "brd_city               1 non-null object\n",
            "brd_ctry               1 non-null object\n",
            "off_port               1 non-null object\n",
            "off_city               1 non-null object\n",
            "off_ctry               1 non-null object\n",
            "mkt_port               1 non-null object\n",
            "mkt_city               1 non-null object\n",
            "mkt_ctry               1 non-null object\n",
            "intl                   1 non-null int64\n",
            "route                  1 non-null object\n",
            "carrier                1 non-null object\n",
            "bkg_class              1 non-null object\n",
            "cab_class              1 non-null object\n",
            "brd_time               1 non-null object\n",
            "off_time               1 non-null object\n",
            "pax                    1 non-null int64\n",
            "year                   1 non-null int64\n",
            "month                  1 non-null int64\n",
            "oid                    1 non-null object\n",
            "dtypes: int64(6), object(32)\n",
            "memory usage: 376.0+ bytes\n"
          ],
          "name": "stdout"
        }
      ]
    },
    {
      "metadata": {
        "id": "mRMVimJz9mWD",
        "colab_type": "code",
        "colab": {
          "base_uri": "https://localhost:8080/",
          "height": 163
        },
        "outputId": "da735177-caf6-4cef-e633-4a2b8a43c819"
      },
      "cell_type": "code",
      "source": [
        "BOOKINGS_ARCH\n"
      ],
      "execution_count": 14,
      "outputs": [
        {
          "output_type": "execute_result",
          "data": {
            "text/html": [
              "<div>\n",
              "<style scoped>\n",
              "    .dataframe tbody tr th:only-of-type {\n",
              "        vertical-align: middle;\n",
              "    }\n",
              "\n",
              "    .dataframe tbody tr th {\n",
              "        vertical-align: top;\n",
              "    }\n",
              "\n",
              "    .dataframe thead th {\n",
              "        text-align: right;\n",
              "    }\n",
              "</style>\n",
              "<table border=\"1\" class=\"dataframe\">\n",
              "  <thead>\n",
              "    <tr style=\"text-align: right;\">\n",
              "      <th></th>\n",
              "      <th>act_date</th>\n",
              "      <th>source</th>\n",
              "      <th>pos_ctry</th>\n",
              "      <th>pos_iata</th>\n",
              "      <th>pos_oid</th>\n",
              "      <th>rloc</th>\n",
              "      <th>cre_date</th>\n",
              "      <th>duration</th>\n",
              "      <th>distance</th>\n",
              "      <th>dep_port</th>\n",
              "      <th>...</th>\n",
              "      <th>route</th>\n",
              "      <th>carrier</th>\n",
              "      <th>bkg_class</th>\n",
              "      <th>cab_class</th>\n",
              "      <th>brd_time</th>\n",
              "      <th>off_time</th>\n",
              "      <th>pax</th>\n",
              "      <th>year</th>\n",
              "      <th>month</th>\n",
              "      <th>oid</th>\n",
              "    </tr>\n",
              "  </thead>\n",
              "  <tbody>\n",
              "    <tr>\n",
              "      <th>0</th>\n",
              "      <td>2013-03-05 00:00:00</td>\n",
              "      <td>1A</td>\n",
              "      <td>DE</td>\n",
              "      <td>a68dd7ae953c8acfb187a1af2dcbe123</td>\n",
              "      <td>1a11ae49fcbf545fd2afc1a24d88d2b7</td>\n",
              "      <td>ea65900e72d71f4626378e2ebd298267</td>\n",
              "      <td>2013-02-22 00:00:00</td>\n",
              "      <td>1708</td>\n",
              "      <td>0</td>\n",
              "      <td>ZRH</td>\n",
              "      <td>...</td>\n",
              "      <td>LHRZRH</td>\n",
              "      <td>VI</td>\n",
              "      <td>T</td>\n",
              "      <td>Y</td>\n",
              "      <td>2013-03-07 08:50:00</td>\n",
              "      <td>2013-03-07 11:33:37</td>\n",
              "      <td>-1</td>\n",
              "      <td>2013</td>\n",
              "      <td>3</td>\n",
              "      <td>NULL</td>\n",
              "    </tr>\n",
              "  </tbody>\n",
              "</table>\n",
              "<p>1 rows × 38 columns</p>\n",
              "</div>"
            ],
            "text/plain": [
              "   act_date             source  pos_ctry                          pos_iata  \\\n",
              "0  2013-03-05 00:00:00  1A      DE        a68dd7ae953c8acfb187a1af2dcbe123   \n",
              "\n",
              "                          pos_oid                      rloc            \\\n",
              "0  1a11ae49fcbf545fd2afc1a24d88d2b7  ea65900e72d71f4626378e2ebd298267   \n",
              "\n",
              "   cre_date             duration  distance  dep_port    ...      \\\n",
              "0  2013-02-22 00:00:00      1708         0  ZRH         ...       \n",
              "\n",
              "   route           carrier  bkg_class  cab_class  brd_time             \\\n",
              "0  LHRZRH               VI  T          Y          2013-03-07 08:50:00   \n",
              "\n",
              "   off_time            pax  year month  oid        \n",
              "0  2013-03-07 11:33:37  -1  2013     3  NULL       \n",
              "\n",
              "[1 rows x 38 columns]"
            ]
          },
          "metadata": {
            "tags": []
          },
          "execution_count": 14
        }
      ]
    },
    {
      "metadata": {
        "id": "UY8usDYEBL26",
        "colab_type": "code",
        "colab": {
          "base_uri": "https://localhost:8080/",
          "height": 238
        },
        "outputId": "9964254f-22ed-44ee-a1e7-62623c1e1882"
      },
      "cell_type": "code",
      "source": [
        "print(SEARCHES_ARCH.values)\n",
        "print(BOOKINGS_ARCH.values)"
      ],
      "execution_count": 23,
      "outputs": [
        {
          "output_type": "stream",
          "text": [
            "[[u'2013-01-01' u'20:25:57' u'MPT' u'624d8c3ac0b3a7ca03e3c167e0f48327'\n",
            "  u'DE' u'TXL' u'AUH' 1 2 u'TXL' u'AUH' u'2013-01-26' u'D2' nan u'AUH'\n",
            "  u'TXL' u'2013-02-02' u'D2' nan nan nan nan nan nan nan nan nan nan nan\n",
            "  nan nan nan nan nan nan nan nan nan nan u'1ASIWS' 0 0 0\n",
            "  u'd41d8cd98f00b204e9800998ecf8427e' u'FRA']]\n",
            "[[u'2013-03-05 00:00:00' u'1A    ' u'DE      '\n",
            "  u'a68dd7ae953c8acfb187a1af2dcbe123' u'1a11ae49fcbf545fd2afc1a24d88d2b7'\n",
            "  u'ea65900e72d71f4626378e2ebd298267' u'2013-02-22 00:00:00' 1708 0\n",
            "  u'ZRH     ' u'ZRH     ' u'CH      ' u'LHR     ' u'LON     ' u'GB      '\n",
            "  u'ZRH     ' u'ZRH     ' u'CH      ' u'LHR     ' u'LON     ' u'GB      '\n",
            "  u'ZRH     ' u'ZRH     ' u'CH      ' u'LHRZRH  ' u'LONZRH  ' u'CHGB    '\n",
            "  1 u'LHRZRH         ' u'VI' u'T        ' u'Y        '\n",
            "  u'2013-03-07 08:50:00' u'2013-03-07 11:33:37' -1 2013 3 u'NULL     ']]\n"
          ],
          "name": "stdout"
        }
      ]
    },
    {
      "metadata": {
        "id": "uAs6PZUQGKIX",
        "colab_type": "text"
      },
      "cell_type": "markdown",
      "source": [
        "We will interet at first at the long series of digits and characters\n",
        "\n",
        "\n",
        "*   SEARCHES :\n",
        "\n",
        "  *   OfficeID\n",
        "  *   TerminalID\n",
        "\n",
        "*   BOOKINGS\n",
        "\n",
        "  *   pos_iata\n",
        "  *   pos_oid\n",
        "  *   rloc\n",
        "\n",
        "\n",
        "\n"
      ]
    },
    {
      "metadata": {
        "id": "6R3Z9WnMBo83",
        "colab_type": "code",
        "colab": {}
      },
      "cell_type": "code",
      "source": [
        "#LISTS WITH INTERESTING FIELDS\n",
        "list_bookings = ['pos_iata', 'pos_oid','rloc']\n",
        "list_searches = ['OfficeID','TerminalID']"
      ],
      "execution_count": 0,
      "outputs": []
    },
    {
      "metadata": {
        "id": "tnZQqt0UG9r0",
        "colab_type": "code",
        "colab": {}
      },
      "cell_type": "code",
      "source": [
        ""
      ],
      "execution_count": 0,
      "outputs": []
    }
  ]
}