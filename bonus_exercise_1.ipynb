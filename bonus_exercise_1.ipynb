{
  "nbformat": 4,
  "nbformat_minor": 0,
  "metadata": {
    "colab": {
      "name": "bonus_exercise_1.ipynb",
      "version": "0.3.2",
      "provenance": [],
      "include_colab_link": true
    }
  },
  "cells": [
    {
      "cell_type": "markdown",
      "metadata": {
        "id": "view-in-github",
        "colab_type": "text"
      },
      "source": [
        "[View in Colaboratory](https://colab.research.google.com/github/jangeloni/challenge_amadeus/blob/bonus_exercise_1/bonus_exercise_1.ipynb)"
      ]
    },
    {
      "metadata": {
        "id": "nAzIKDKVtbvO",
        "colab_type": "code",
        "colab": {
          "base_uri": "https://localhost:8080/",
          "height": 54
        },
        "outputId": "d1574dee-541c-49c5-be87-3eb2eb23fb4d"
      },
      "cell_type": "code",
      "source": [
        "\"\"\"\n",
        "Amadeus Challenge : Data Scientist Position\n",
        "Author            : Angeloni Julien\n",
        "Date Creation     : 10/09/2018\n",
        "\n",
        "Bonus exercise 1 - Match Searches with Bookings\n",
        "\n",
        "Data              : bookings.csv & searches.csv\n",
        "\"\"\""
      ],
      "execution_count": 1,
      "outputs": [
        {
          "output_type": "execute_result",
          "data": {
            "text/plain": [
              "'\\nAmadeus Challenge : Data Scientist Position\\nAuthor            : Angeloni Julien\\nDate Creation     : 10/09/2018\\n\\nBonus exercise 1 - Match Searches with Bookings\\n\\nData              : bookings.csv & searches.csv\\n'"
            ]
          },
          "metadata": {
            "tags": []
          },
          "execution_count": 1
        }
      ]
    },
    {
      "metadata": {
        "id": "xBkTWN6XwIaw",
        "colab_type": "code",
        "colab": {}
      },
      "cell_type": "code",
      "source": [
        "#LIBRAIRIES\n",
        "import pandas as pd\n",
        "from google.colab import drive"
      ],
      "execution_count": 0,
      "outputs": []
    },
    {
      "metadata": {
        "id": "A6iT_-tXwOyP",
        "colab_type": "code",
        "colab": {
          "base_uri": "https://localhost:8080/",
          "height": 34
        },
        "outputId": "5a74c589-b5e4-4ef9-a26a-95997440de58"
      },
      "cell_type": "code",
      "source": [
        "#IMPORT FILES\n",
        "drive.mount('/content/gdrive')"
      ],
      "execution_count": 4,
      "outputs": [
        {
          "output_type": "stream",
          "text": [
            "Mounted at /content/gdrive\n"
          ],
          "name": "stdout"
        }
      ]
    },
    {
      "metadata": {
        "id": "e59ZMRe86pV-",
        "colab_type": "code",
        "colab": {}
      },
      "cell_type": "code",
      "source": [
        "# GLOBAL VARIABLES\n",
        "SEARCHES = '/content/gdrive/My Drive/Colab Notebooks/searches.csv'\n",
        "BOOKINGS = '/content/gdrive/My Drive/Colab Notebooks/bookings.csv'"
      ],
      "execution_count": 0,
      "outputs": []
    },
    {
      "metadata": {
        "id": "koi1DqQ584kQ",
        "colab_type": "code",
        "colab": {}
      },
      "cell_type": "code",
      "source": [
        "#USEFUL DATAFRAME\n",
        "DF_SEARCHES_ARCH = pd.read_csv(SEARCHES, error_bad_lines=False, encoding='UTF8', sep='^', nrows=1)\n",
        "DF_BOOKINGS_ARCH = pd.read_csv(BOOKINGS, error_bad_lines=False, encoding='UTF8', sep='^', nrows=1)"
      ],
      "execution_count": 0,
      "outputs": []
    },
    {
      "metadata": {
        "id": "K8_XY6DR9Q50",
        "colab_type": "code",
        "colab": {
          "base_uri": "https://localhost:8080/",
          "height": 1598
        },
        "outputId": "1503669a-99b5-4938-b13c-417d48a7528e"
      },
      "cell_type": "code",
      "source": [
        "#PRINT ARCHITECTURE\n",
        "DF_SEARCHES_ARCH.info()\n",
        "DF_BOOKINGS_ARCH.info()"
      ],
      "execution_count": 10,
      "outputs": [
        {
          "output_type": "stream",
          "text": [
            "<class 'pandas.core.frame.DataFrame'>\n",
            "RangeIndex: 1 entries, 0 to 0\n",
            "Data columns (total 45 columns):\n",
            "Date                 1 non-null object\n",
            "Time                 1 non-null object\n",
            "TxnCode              1 non-null object\n",
            "OfficeID             1 non-null object\n",
            "Country              1 non-null object\n",
            "Origin               1 non-null object\n",
            "Destination          1 non-null object\n",
            "RoundTrip            1 non-null int64\n",
            "NbSegments           1 non-null int64\n",
            "Seg1Departure        1 non-null object\n",
            "Seg1Arrival          1 non-null object\n",
            "Seg1Date             1 non-null object\n",
            "Seg1Carrier          1 non-null object\n",
            "Seg1BookingCode      0 non-null float64\n",
            "Seg2Departure        1 non-null object\n",
            "Seg2Arrival          1 non-null object\n",
            "Seg2Date             1 non-null object\n",
            "Seg2Carrier          1 non-null object\n",
            "Seg2BookingCode      0 non-null float64\n",
            "Seg3Departure        0 non-null float64\n",
            "Seg3Arrival          0 non-null float64\n",
            "Seg3Date             0 non-null float64\n",
            "Seg3Carrier          0 non-null float64\n",
            "Seg3BookingCode      0 non-null float64\n",
            "Seg4Departure        0 non-null float64\n",
            "Seg4Arrival          0 non-null float64\n",
            "Seg4Date             0 non-null float64\n",
            "Seg4Carrier          0 non-null float64\n",
            "Seg4BookingCode      0 non-null float64\n",
            "Seg5Departure        0 non-null float64\n",
            "Seg5Arrival          0 non-null float64\n",
            "Seg5Date             0 non-null float64\n",
            "Seg5Carrier          0 non-null float64\n",
            "Seg5BookingCode      0 non-null float64\n",
            "Seg6Departure        0 non-null float64\n",
            "Seg6Arrival          0 non-null float64\n",
            "Seg6Date             0 non-null float64\n",
            "Seg6Carrier          0 non-null float64\n",
            "Seg6BookingCode      0 non-null float64\n",
            "From                 1 non-null object\n",
            "IsPublishedForNeg    1 non-null int64\n",
            "IsFromInternet       1 non-null int64\n",
            "IsFromVista          1 non-null int64\n",
            "TerminalID           1 non-null object\n",
            "InternetOffice       1 non-null object\n",
            "dtypes: float64(22), int64(5), object(18)\n",
            "memory usage: 432.0+ bytes\n",
            "<class 'pandas.core.frame.DataFrame'>\n",
            "RangeIndex: 1 entries, 0 to 0\n",
            "Data columns (total 38 columns):\n",
            "act_date               1 non-null object\n",
            "source                 1 non-null object\n",
            "pos_ctry               1 non-null object\n",
            "pos_iata               1 non-null object\n",
            "pos_oid                1 non-null object\n",
            "rloc                   1 non-null object\n",
            "cre_date               1 non-null object\n",
            "duration               1 non-null int64\n",
            "distance               1 non-null int64\n",
            "dep_port               1 non-null object\n",
            "dep_city               1 non-null object\n",
            "dep_ctry               1 non-null object\n",
            "arr_port               1 non-null object\n",
            "arr_city               1 non-null object\n",
            "arr_ctry               1 non-null object\n",
            "lst_port               1 non-null object\n",
            "lst_city               1 non-null object\n",
            "lst_ctry               1 non-null object\n",
            "brd_port               1 non-null object\n",
            "brd_city               1 non-null object\n",
            "brd_ctry               1 non-null object\n",
            "off_port               1 non-null object\n",
            "off_city               1 non-null object\n",
            "off_ctry               1 non-null object\n",
            "mkt_port               1 non-null object\n",
            "mkt_city               1 non-null object\n",
            "mkt_ctry               1 non-null object\n",
            "intl                   1 non-null int64\n",
            "route                  1 non-null object\n",
            "carrier                1 non-null object\n",
            "bkg_class              1 non-null object\n",
            "cab_class              1 non-null object\n",
            "brd_time               1 non-null object\n",
            "off_time               1 non-null object\n",
            "pax                    1 non-null int64\n",
            "year                   1 non-null int64\n",
            "month                  1 non-null int64\n",
            "oid                    1 non-null object\n",
            "dtypes: int64(6), object(32)\n",
            "memory usage: 376.0+ bytes\n"
          ],
          "name": "stdout"
        }
      ]
    },
    {
      "metadata": {
        "id": "mRMVimJz9mWD",
        "colab_type": "code",
        "colab": {}
      },
      "cell_type": "code",
      "source": [
        ""
      ],
      "execution_count": 0,
      "outputs": []
    }
  ]
}