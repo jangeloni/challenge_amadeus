{
  "nbformat": 4,
  "nbformat_minor": 0,
  "metadata": {
    "colab": {
      "name": "second_exercise.ipynb",
      "version": "0.3.2",
      "provenance": []
    },
    "kernelspec": {
      "name": "python3",
      "display_name": "Python 3"
    }
  },
  "cells": [
    {
      "metadata": {
        "id": "9CbhYsEh-ykK",
        "colab_type": "code",
        "colab": {}
      },
      "cell_type": "code",
      "source": [
        "\"\"\"\n",
        "Amadeus Challenge : Data Scientist Position\n",
        "Author            : Angeloni Julien\n",
        "Date Creation     : 10/08/2018\n",
        "\n",
        "Second exercise - Top 10 arrival airports in the world in 2013\n",
        "\n",
        "Data              : bookings.csv\n",
        "\"\"\""
      ],
      "execution_count": 0,
      "outputs": []
    },
    {
      "metadata": {
        "id": "xQ96LHFNAVqy",
        "colab_type": "code",
        "colab": {}
      },
      "cell_type": "code",
      "source": [
        "# LIBRARIES\n",
        "import pandas as pd\n",
        "from google.colab import drive"
      ],
      "execution_count": 0,
      "outputs": []
    },
    {
      "metadata": {
        "id": "YAjDNc3MAf53",
        "colab_type": "code",
        "colab": {
          "base_uri": "https://localhost:8080/",
          "height": 122
        },
        "outputId": "bba6508c-abbc-49f2-f68c-4ead4b2c612a"
      },
      "cell_type": "code",
      "source": [
        "# IMPORT FILES\n",
        "drive.mount('/content/gdrive')"
      ],
      "execution_count": 3,
      "outputs": [
        {
          "output_type": "stream",
          "text": [
            "Go to this URL in a browser: https://accounts.google.com/o/oauth2/auth?client_id=947318989803-6bn6qk8qdgf4n4g3pfee6491hc0brc4i.apps.googleusercontent.com&redirect_uri=urn%3Aietf%3Awg%3Aoauth%3A2.0%3Aoob&scope=email%20https%3A%2F%2Fwww.googleapis.com%2Fauth%2Fdocs.test%20https%3A%2F%2Fwww.googleapis.com%2Fauth%2Fdrive%20https%3A%2F%2Fwww.googleapis.com%2Fauth%2Fdrive.photos.readonly%20https%3A%2F%2Fwww.googleapis.com%2Fauth%2Fpeopleapi.readonly&response_type=code\n",
            "\n",
            "Enter your authorization code:\n",
            "··········\n",
            "Mounted at /content/gdrive\n"
          ],
          "name": "stdout"
        }
      ]
    },
    {
      "metadata": {
        "id": "mlUeTr60Be4Q",
        "colab_type": "code",
        "colab": {}
      },
      "cell_type": "code",
      "source": [
        "# GLOBAL VARIABLES\n",
        "BOOKINGS = '/content/gdrive/My Drive/Colab Notebooks/bookings.csv'\n",
        "\n",
        "# DATAFRAME STRUCTURE\n",
        "BOOKINGS_DF_STRUCT = pd.read_csv(BOOKINGS, error_bad_lines=False, encoding='UTF8', sep='^', nrows=1)"
      ],
      "execution_count": 0,
      "outputs": []
    },
    {
      "metadata": {
        "id": "YpgcNpmVC70x",
        "colab_type": "code",
        "colab": {
          "base_uri": "https://localhost:8080/",
          "height": 748
        },
        "outputId": "2512f6ca-09bd-41cc-9458-f0fa15de0c1d"
      },
      "cell_type": "code",
      "source": [
        "BOOKINGS_DF_STRUCT.info()"
      ],
      "execution_count": 7,
      "outputs": [
        {
          "output_type": "stream",
          "text": [
            "<class 'pandas.core.frame.DataFrame'>\n",
            "RangeIndex: 1 entries, 0 to 0\n",
            "Data columns (total 38 columns):\n",
            "act_date               1 non-null object\n",
            "source                 1 non-null object\n",
            "pos_ctry               1 non-null object\n",
            "pos_iata               1 non-null object\n",
            "pos_oid                1 non-null object\n",
            "rloc                   1 non-null object\n",
            "cre_date               1 non-null object\n",
            "duration               1 non-null int64\n",
            "distance               1 non-null int64\n",
            "dep_port               1 non-null object\n",
            "dep_city               1 non-null object\n",
            "dep_ctry               1 non-null object\n",
            "arr_port               1 non-null object\n",
            "arr_city               1 non-null object\n",
            "arr_ctry               1 non-null object\n",
            "lst_port               1 non-null object\n",
            "lst_city               1 non-null object\n",
            "lst_ctry               1 non-null object\n",
            "brd_port               1 non-null object\n",
            "brd_city               1 non-null object\n",
            "brd_ctry               1 non-null object\n",
            "off_port               1 non-null object\n",
            "off_city               1 non-null object\n",
            "off_ctry               1 non-null object\n",
            "mkt_port               1 non-null object\n",
            "mkt_city               1 non-null object\n",
            "mkt_ctry               1 non-null object\n",
            "intl                   1 non-null int64\n",
            "route                  1 non-null object\n",
            "carrier                1 non-null object\n",
            "bkg_class              1 non-null object\n",
            "cab_class              1 non-null object\n",
            "brd_time               1 non-null object\n",
            "off_time               1 non-null object\n",
            "pax                    1 non-null int64\n",
            "year                   1 non-null int64\n",
            "month                  1 non-null int64\n",
            "oid                    1 non-null object\n",
            "dtypes: int64(6), object(32)\n",
            "memory usage: 384.0+ bytes\n"
          ],
          "name": "stdout"
        }
      ]
    },
    {
      "metadata": {
        "id": "MZ3JFoviEKTG",
        "colab_type": "code",
        "colab": {}
      },
      "cell_type": "code",
      "source": [
        ""
      ],
      "execution_count": 0,
      "outputs": []
    }
  ]
}