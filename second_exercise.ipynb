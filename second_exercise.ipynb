{
  "nbformat": 4,
  "nbformat_minor": 0,
  "metadata": {
    "colab": {
      "name": "second_exercise.ipynb",
      "version": "0.3.2",
      "provenance": []
    },
    "kernelspec": {
      "name": "python3",
      "display_name": "Python 3"
    }
  },
  "cells": [
    {
      "metadata": {
        "id": "9CbhYsEh-ykK",
        "colab_type": "code",
        "colab": {}
      },
      "cell_type": "code",
      "source": [
        "\"\"\"\n",
        "Amadeus Challenge : Data Scientist Position\n",
        "Author            : Angeloni Julien\n",
        "Date Creation     : 10/08/2018\n",
        "\n",
        "Second exercise - Top 10 arrival airports in the world in 2013\n",
        "\n",
        "Data              : bookings.csv\n",
        "\"\"\""
      ],
      "execution_count": 0,
      "outputs": []
    },
    {
      "metadata": {
        "id": "xQ96LHFNAVqy",
        "colab_type": "code",
        "colab": {}
      },
      "cell_type": "code",
      "source": [
        "# LIBRARIES\n",
        "import pandas as pd\n",
        "from google.colab import drive"
      ],
      "execution_count": 0,
      "outputs": []
    },
    {
      "metadata": {
        "id": "YAjDNc3MAf53",
        "colab_type": "code",
        "colab": {
          "base_uri": "https://localhost:8080/",
          "height": 122
        },
        "outputId": "bba6508c-abbc-49f2-f68c-4ead4b2c612a"
      },
      "cell_type": "code",
      "source": [
        "# IMPORT FILES\n",
        "drive.mount('/content/gdrive')"
      ],
      "execution_count": 3,
      "outputs": [
        {
          "output_type": "stream",
          "text": [
            "Go to this URL in a browser: https://accounts.google.com/o/oauth2/auth?client_id=947318989803-6bn6qk8qdgf4n4g3pfee6491hc0brc4i.apps.googleusercontent.com&redirect_uri=urn%3Aietf%3Awg%3Aoauth%3A2.0%3Aoob&scope=email%20https%3A%2F%2Fwww.googleapis.com%2Fauth%2Fdocs.test%20https%3A%2F%2Fwww.googleapis.com%2Fauth%2Fdrive%20https%3A%2F%2Fwww.googleapis.com%2Fauth%2Fdrive.photos.readonly%20https%3A%2F%2Fwww.googleapis.com%2Fauth%2Fpeopleapi.readonly&response_type=code\n",
            "\n",
            "Enter your authorization code:\n",
            "··········\n",
            "Mounted at /content/gdrive\n"
          ],
          "name": "stdout"
        }
      ]
    },
    {
      "metadata": {
        "id": "mlUeTr60Be4Q",
        "colab_type": "code",
        "colab": {}
      },
      "cell_type": "code",
      "source": [
        "# GLOBAL VARIABLES\n",
        "BOOKINGS = '/content/gdrive/My Drive/Colab Notebooks/bookings.csv'\n",
        "\n",
        "# DATAFRAME STRUCTURE\n",
        "BOOKINGS_DF_STRUCT = pd.read_csv(BOOKINGS, error_bad_lines=False, encoding='UTF8', sep='^', nrows=1)\n",
        "\n",
        "# Dataframe using suggested columns\n",
        "BOOKINGS_DF_EX = pd.read_csv(BOOKINGS, error_bad_lines=False, encoding='UTF8', sep='^', usecols=['arr_port','pax'])"
      ],
      "execution_count": 0,
      "outputs": []
    },
    {
      "metadata": {
        "id": "YpgcNpmVC70x",
        "colab_type": "code",
        "colab": {
          "base_uri": "https://localhost:8080/",
          "height": 748
        },
        "outputId": "2512f6ca-09bd-41cc-9458-f0fa15de0c1d"
      },
      "cell_type": "code",
      "source": [
        "BOOKINGS_DF_STRUCT.info()"
      ],
      "execution_count": 7,
      "outputs": [
        {
          "output_type": "stream",
          "text": [
            "<class 'pandas.core.frame.DataFrame'>\n",
            "RangeIndex: 1 entries, 0 to 0\n",
            "Data columns (total 38 columns):\n",
            "act_date               1 non-null object\n",
            "source                 1 non-null object\n",
            "pos_ctry               1 non-null object\n",
            "pos_iata               1 non-null object\n",
            "pos_oid                1 non-null object\n",
            "rloc                   1 non-null object\n",
            "cre_date               1 non-null object\n",
            "duration               1 non-null int64\n",
            "distance               1 non-null int64\n",
            "dep_port               1 non-null object\n",
            "dep_city               1 non-null object\n",
            "dep_ctry               1 non-null object\n",
            "arr_port               1 non-null object\n",
            "arr_city               1 non-null object\n",
            "arr_ctry               1 non-null object\n",
            "lst_port               1 non-null object\n",
            "lst_city               1 non-null object\n",
            "lst_ctry               1 non-null object\n",
            "brd_port               1 non-null object\n",
            "brd_city               1 non-null object\n",
            "brd_ctry               1 non-null object\n",
            "off_port               1 non-null object\n",
            "off_city               1 non-null object\n",
            "off_ctry               1 non-null object\n",
            "mkt_port               1 non-null object\n",
            "mkt_city               1 non-null object\n",
            "mkt_ctry               1 non-null object\n",
            "intl                   1 non-null int64\n",
            "route                  1 non-null object\n",
            "carrier                1 non-null object\n",
            "bkg_class              1 non-null object\n",
            "cab_class              1 non-null object\n",
            "brd_time               1 non-null object\n",
            "off_time               1 non-null object\n",
            "pax                    1 non-null int64\n",
            "year                   1 non-null int64\n",
            "month                  1 non-null int64\n",
            "oid                    1 non-null object\n",
            "dtypes: int64(6), object(32)\n",
            "memory usage: 384.0+ bytes\n"
          ],
          "name": "stdout"
        }
      ]
    },
    {
      "metadata": {
        "id": "MZ3JFoviEKTG",
        "colab_type": "code",
        "colab": {
          "base_uri": "https://localhost:8080/",
          "height": 359
        },
        "outputId": "41bbdf29-aad7-4698-8c22-dbe1207f40ef"
      },
      "cell_type": "code",
      "source": [
        "# CHECKING SELECTED COLUMNS\n",
        "BOOKINGS_DF_EX.head(10)"
      ],
      "execution_count": 11,
      "outputs": [
        {
          "output_type": "execute_result",
          "data": {
            "text/html": [
              "<div>\n",
              "<style scoped>\n",
              "    .dataframe tbody tr th:only-of-type {\n",
              "        vertical-align: middle;\n",
              "    }\n",
              "\n",
              "    .dataframe tbody tr th {\n",
              "        vertical-align: top;\n",
              "    }\n",
              "\n",
              "    .dataframe thead th {\n",
              "        text-align: right;\n",
              "    }\n",
              "</style>\n",
              "<table border=\"1\" class=\"dataframe\">\n",
              "  <thead>\n",
              "    <tr style=\"text-align: right;\">\n",
              "      <th></th>\n",
              "      <th>arr_port</th>\n",
              "      <th>pax</th>\n",
              "    </tr>\n",
              "  </thead>\n",
              "  <tbody>\n",
              "    <tr>\n",
              "      <th>0</th>\n",
              "      <td>LHR</td>\n",
              "      <td>-1.0</td>\n",
              "    </tr>\n",
              "    <tr>\n",
              "      <th>1</th>\n",
              "      <td>CLT</td>\n",
              "      <td>1.0</td>\n",
              "    </tr>\n",
              "    <tr>\n",
              "      <th>2</th>\n",
              "      <td>CLT</td>\n",
              "      <td>1.0</td>\n",
              "    </tr>\n",
              "    <tr>\n",
              "      <th>3</th>\n",
              "      <td>SVO</td>\n",
              "      <td>1.0</td>\n",
              "    </tr>\n",
              "    <tr>\n",
              "      <th>4</th>\n",
              "      <td>SVO</td>\n",
              "      <td>1.0</td>\n",
              "    </tr>\n",
              "    <tr>\n",
              "      <th>5</th>\n",
              "      <td>LGA</td>\n",
              "      <td>1.0</td>\n",
              "    </tr>\n",
              "    <tr>\n",
              "      <th>6</th>\n",
              "      <td>LGA</td>\n",
              "      <td>1.0</td>\n",
              "    </tr>\n",
              "    <tr>\n",
              "      <th>7</th>\n",
              "      <td>SIN</td>\n",
              "      <td>2.0</td>\n",
              "    </tr>\n",
              "    <tr>\n",
              "      <th>8</th>\n",
              "      <td>SIN</td>\n",
              "      <td>2.0</td>\n",
              "    </tr>\n",
              "    <tr>\n",
              "      <th>9</th>\n",
              "      <td>SIN</td>\n",
              "      <td>2.0</td>\n",
              "    </tr>\n",
              "  </tbody>\n",
              "</table>\n",
              "</div>"
            ],
            "text/plain": [
              "   arr_port  pax\n",
              "0  LHR      -1.0\n",
              "1  CLT       1.0\n",
              "2  CLT       1.0\n",
              "3  SVO       1.0\n",
              "4  SVO       1.0\n",
              "5  LGA       1.0\n",
              "6  LGA       1.0\n",
              "7  SIN       2.0\n",
              "8  SIN       2.0\n",
              "9  SIN       2.0"
            ]
          },
          "metadata": {
            "tags": []
          },
          "execution_count": 11
        }
      ]
    },
    {
      "metadata": {
        "id": "VZtHrrPiHQGa",
        "colab_type": "code",
        "colab": {}
      },
      "cell_type": "code",
      "source": [
        ""
      ],
      "execution_count": 0,
      "outputs": []
    }
  ]
}