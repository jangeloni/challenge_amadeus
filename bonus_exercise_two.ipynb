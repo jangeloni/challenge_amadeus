{
  "nbformat": 4,
  "nbformat_minor": 0,
  "metadata": {
    "colab": {
      "name": "bonus_exercise_two.ipynb",
      "version": "0.3.2",
      "provenance": []
    },
    "kernelspec": {
      "name": "python3",
      "display_name": "Python 3"
    }
  },
  "cells": [
    {
      "metadata": {
        "id": "9CbhYsEh-ykK",
        "colab_type": "code",
        "colab": {}
      },
      "cell_type": "code",
      "source": [
        "\"\"\"\n",
        "Amadeus Challenge : Data Scientist Position\n",
        "Author            : Angeloni Julien\n",
        "Date Creation     : 10/08/2018\n",
        "\n",
        "Bonus exercise two - parsing data to JSON format\n",
        "\n",
        "Data              : bookings.csv\n",
        "\"\"\""
      ],
      "execution_count": 0,
      "outputs": []
    },
    {
      "metadata": {
        "id": "zVlMCeCk3et9",
        "colab_type": "code",
        "colab": {
          "base_uri": "https://localhost:8080/",
          "height": 153
        },
        "outputId": "324064b6-bc59-4374-be53-4bb40bd36af5"
      },
      "cell_type": "code",
      "source": [
        "!pip install GeoBases3K"
      ],
      "execution_count": 0,
      "outputs": [
        {
          "output_type": "stream",
          "text": [
            "Requirement already satisfied: GeoBases3K in /usr/local/lib/python3.6/dist-packages (5.0.16)\n",
            "Requirement already satisfied: pyyaml in /usr/local/lib/python3.6/dist-packages (from GeoBases3K) (3.13)\n",
            "Requirement already satisfied: colorama in /usr/local/lib/python3.6/dist-packages (from GeoBases3K) (0.3.9)\n",
            "Requirement already satisfied: argparse in /usr/local/lib/python3.6/dist-packages (from GeoBases3K) (1.4.0)\n",
            "Requirement already satisfied: termcolor in /usr/local/lib/python3.6/dist-packages (from GeoBases3K) (1.1.0)\n",
            "Requirement already satisfied: python-geohash in /usr/local/lib/python3.6/dist-packages (from GeoBases3K) (0.8.5)\n",
            "Requirement already satisfied: python-Levenshtein in /usr/local/lib/python3.6/dist-packages (from GeoBases3K) (0.12.0)\n",
            "Requirement already satisfied: setuptools in /usr/local/lib/python3.6/dist-packages (from python-Levenshtein->GeoBases3K) (39.1.0)\n"
          ],
          "name": "stdout"
        }
      ]
    },
    {
      "metadata": {
        "id": "xQ96LHFNAVqy",
        "colab_type": "code",
        "colab": {}
      },
      "cell_type": "code",
      "source": [
        "# LIBRARIES\n",
        "import pandas as pd\n",
        "from google.colab import drive\n",
        "from GeoBases import GeoBase\n",
        "import re"
      ],
      "execution_count": 0,
      "outputs": []
    },
    {
      "metadata": {
        "id": "YAjDNc3MAf53",
        "colab_type": "code",
        "colab": {
          "base_uri": "https://localhost:8080/",
          "height": 33
        },
        "outputId": "20b4c7ff-c1ba-4a5a-9edb-0dc988472358"
      },
      "cell_type": "code",
      "source": [
        "# IMPORT FILES\n",
        "drive.mount('/content/gdrive')"
      ],
      "execution_count": 2,
      "outputs": [
        {
          "output_type": "stream",
          "text": [
            "Mounted at /content/gdrive\n"
          ],
          "name": "stdout"
        }
      ]
    },
    {
      "metadata": {
        "id": "mlUeTr60Be4Q",
        "colab_type": "code",
        "colab": {}
      },
      "cell_type": "code",
      "source": [
        "# GLOBAL VARIABLES\n",
        "BOOKINGS = '/content/gdrive/My Drive/Colab Notebooks/bookings.csv'\n",
        "GEO_O = GeoBase(data='ori_por', verbose=False)"
      ],
      "execution_count": 0,
      "outputs": []
    },
    {
      "metadata": {
        "id": "fOdRBoZuy2nO",
        "colab_type": "text"
      },
      "cell_type": "markdown",
      "source": [
        "# WORK USING FUNCTIONS"
      ]
    },
    {
      "metadata": {
        "id": "xcjMC_M6y_u0",
        "colab_type": "code",
        "colab": {}
      },
      "cell_type": "code",
      "source": [
        "#METHOD PART\n",
        "\n",
        "def get_df_cols(csvfilename,cols,separator):\n",
        "  \"\"\"\n",
        "  Method to get a dataframe from a csv file with specified columns\n",
        "  \n",
        "  @csvfilename : the name of the file to convert in dataframe\n",
        "  @cols        : list of string giving columns name to keep\n",
        "  @separator   : character used to delimit fields in the csv file\n",
        "  \n",
        "  @return      : a dataframe\n",
        "  \"\"\"\n",
        "  \n",
        "  dataframe = pd.read_csv(BOOKINGS, error_bad_lines=False, encoding='UTF8', sep=separator, usecols=cols)\n",
        "  \n",
        "  return dataframe\n",
        "\n",
        "\n",
        "def get_name(IATA_code):\n",
        "  \"\"\"\n",
        "    Function to return the name of the airport linked to IATA_code\n",
        "    \n",
        "    @IATA_code : String object which is a IATA_code\n",
        "   \n",
        "    @return    : String object which is the name of the airport\n",
        "  \"\"\"\n",
        "  \n",
        "  #If IATE CODE exists in GEO_O\n",
        "  try:\n",
        "    #We found that in the csv file, iata code are followed by some blankspacies\n",
        "    result = GEO_O.get(IATA_code.replace(\" \",\"\"), 'name')\n",
        "  #Else we just specify that we cannot found the IATA CODE\n",
        "  except KeyError as e:\n",
        "    result = \"NOT FOUND IATA CODE\"\n",
        "   \n",
        "  return result\n",
        "  \n",
        "\n",
        "def get_airports_arrival_sorted(dataframe):\n",
        "  \"\"\"\n",
        "  Method to print the get arrivals airports in 2013 from searches file\n",
        "  \n",
        "  @dataframe : the dataframe containing the data\n",
        "  \n",
        "  @return    : a new dataframe\n",
        "  \"\"\"\n",
        "  \n",
        "  #Created dataframe grouped by 'arr_port' aggregated by sum\n",
        "  result_dataframe = dataframe.groupby(['arr_port']).sum()\n",
        "  #Sorted the result in a descending way\n",
        "  result_dataframe = result_dataframe.sort_values(by=['pax'], ascending=False)\n",
        "  \n",
        "  return result_dataframe\n",
        "\n",
        "\n",
        "def add_airports_name(dataframe):\n",
        "  \"\"\"\n",
        "  Method to add a column in a dataframe containing the full name of airports\n",
        "  thanks to the IATA CODE\n",
        "  \n",
        "  @dataframe : the dataframe to modify\n",
        "  \n",
        "  @return    : the dataframe modified\n",
        "  \"\"\"\n",
        "  \n",
        "  #Reset the index of the dataframe in order to apply a lambda method\n",
        "  dataframe = dataframe.reset_index()\n",
        "  \n",
        "  #Add the column and its values\n",
        "  dataframe['airport_name'] = dataframe['arr_port'].apply(lambda x: get_name(x))\n",
        "\n",
        "  return dataframe\n",
        "\n",
        "def print_top_n_arrival_airport(dataframe,n):\n",
        "  \"\"\"\n",
        "  Method to print the top n of arrival airports in 2013\n",
        "  \n",
        "  @dataframe : the preformatted dataframe by columns containing the data\n",
        "  @n         : the number of airports to show\n",
        "  \"\"\"\n",
        "  \n",
        "  df = get_airports_arrival_sorted(dataframe)\n",
        "  df = add_airports_name(df)\n",
        "  \n",
        "  print(df.head(n))\n",
        "  \n",
        "  return df[0:n]"
      ],
      "execution_count": 0,
      "outputs": []
    },
    {
      "metadata": {
        "id": "0_qdN2PX7X6k",
        "colab_type": "code",
        "colab": {
          "base_uri": "https://localhost:8080/",
          "height": 204
        },
        "outputId": "57aae0a8-0857-4364-8b47-33df9df1bb3f"
      },
      "cell_type": "code",
      "source": [
        "#PRINT THE TOP TEN\n",
        "cols = [\"arr_port\",\"pax\"]\n",
        "\n",
        "dataframe = get_df_cols(BOOKINGS,cols,'^')\n",
        "\n",
        "print_top_n_arrival_airport(dataframe,10)"
      ],
      "execution_count": 0,
      "outputs": [
        {
          "output_type": "stream",
          "text": [
            "   arr_port      pax                          airport_name\n",
            "0  LHR       88809.0               London Heathrow Airport\n",
            "1  MCO       70930.0         Orlando International Airport\n",
            "2  LAX       70530.0     Los Angeles International Airport\n",
            "3  LAS       69630.0       Mc Carran International Airport\n",
            "4  JFK       66270.0  John F Kennedy International Airport\n",
            "5  CDG       64490.0             Paris - Charles-de-Gaulle\n",
            "6  BKK       59460.0                          Suvarnabhumi\n",
            "7  MIA       58150.0           Miami International Airport\n",
            "8  SFO       58000.0   San Francisco International Airport\n",
            "9  DXB       55590.0           Dubai International Airport\n"
          ],
          "name": "stdout"
        }
      ]
    },
    {
      "metadata": {
        "id": "VZtHrrPiHQGa",
        "colab_type": "code",
        "colab": {}
      },
      "cell_type": "code",
      "source": [
        "# CREATE DATAFRAME FROM BOOKINGS_DF_EX GROUPED BY arr_port\n",
        "BOOKINGS_GROUP_BY_ARR_PORT = BOOKINGS_DF_EX.groupby(['arr_port']).sum()"
      ],
      "execution_count": 0,
      "outputs": []
    },
    {
      "metadata": {
        "id": "UA0pHZIeTPNN",
        "colab_type": "text"
      },
      "cell_type": "markdown",
      "source": [
        "# JSON PARSING PART"
      ]
    },
    {
      "metadata": {
        "id": "zq6QG7mWtMZp",
        "colab_type": "code",
        "colab": {}
      },
      "cell_type": "code",
      "source": [
        "cols = [\"arr_port\",\"pax\"]\n",
        "\n",
        "dataframe = get_df_cols(BOOKINGS,cols,'^')"
      ],
      "execution_count": 0,
      "outputs": []
    },
    {
      "metadata": {
        "id": "L3Kts_HlThqO",
        "colab_type": "code",
        "colab": {
          "base_uri": "https://localhost:8080/",
          "height": 283
        },
        "outputId": "bb9f6052-15f7-41d2-b1a4-6d0ac38767d9"
      },
      "cell_type": "code",
      "source": [
        "df_to_parse = print_top_n_arrival_airport(dataframe,14)"
      ],
      "execution_count": 6,
      "outputs": [
        {
          "output_type": "stream",
          "text": [
            "    arr_port      pax                             airport_name\n",
            "0   LHR       88809.0                  London Heathrow Airport\n",
            "1   MCO       70930.0            Orlando International Airport\n",
            "2   LAX       70530.0        Los Angeles International Airport\n",
            "3   LAS       69630.0          Mc Carran International Airport\n",
            "4   JFK       66270.0     John F Kennedy International Airport\n",
            "5   CDG       64490.0                Paris - Charles-de-Gaulle\n",
            "6   BKK       59460.0                             Suvarnabhumi\n",
            "7   MIA       58150.0              Miami International Airport\n",
            "8   SFO       58000.0      San Francisco International Airport\n",
            "9   DXB       55590.0              Dubai International Airport\n",
            "10  ORD       53200.0     Chicago O'Hare International Airport\n",
            "11  FCO       45120.0      Leonardo da Vinci–Fiumicino Airport\n",
            "12  IST       43850.0                       Istanbul / Ataturk\n",
            "13  DFW       42420.0  Dallas/Fort Worth International Airport\n"
          ],
          "name": "stdout"
        }
      ]
    },
    {
      "metadata": {
        "id": "-3vhTLemULd0",
        "colab_type": "code",
        "colab": {
          "base_uri": "https://localhost:8080/",
          "height": 53
        },
        "outputId": "fa6caad0-cc3c-417b-bd2d-faa3547609b2"
      },
      "cell_type": "code",
      "source": [
        "json_string = df_to_parse.to_json(orient='split')\n",
        "json_string"
      ],
      "execution_count": 7,
      "outputs": [
        {
          "output_type": "execute_result",
          "data": {
            "text/plain": [
              "'{\"columns\":[\"arr_port\",\"pax\",\"airport_name\"],\"index\":[0,1,2,3,4,5,6,7,8,9,10,11,12,13],\"data\":[[\"LHR     \",88809.0,\"London Heathrow Airport\"],[\"MCO     \",70930.0,\"Orlando International Airport\"],[\"LAX     \",70530.0,\"Los Angeles International Airport\"],[\"LAS     \",69630.0,\"Mc Carran International Airport\"],[\"JFK     \",66270.0,\"John F Kennedy International Airport\"],[\"CDG     \",64490.0,\"Paris - Charles-de-Gaulle\"],[\"BKK     \",59460.0,\"Suvarnabhumi\"],[\"MIA     \",58150.0,\"Miami International Airport\"],[\"SFO     \",58000.0,\"San Francisco International Airport\"],[\"DXB     \",55590.0,\"Dubai International Airport\"],[\"ORD     \",53200.0,\"Chicago O\\'Hare International Airport\"],[\"FCO     \",45120.0,\"Leonardo da Vinci\\\\u2013Fiumicino Airport\"],[\"IST     \",43850.0,\"Istanbul \\\\/ Ataturk\"],[\"DFW     \",42420.0,\"Dallas\\\\/Fort Worth International Airport\"]]}'"
            ]
          },
          "metadata": {
            "tags": []
          },
          "execution_count": 7
        }
      ]
    },
    {
      "metadata": {
        "id": "P5EJKCfFUgPz",
        "colab_type": "code",
        "colab": {}
      },
      "cell_type": "code",
      "source": [
        ""
      ],
      "execution_count": 0,
      "outputs": []
    }
  ]
}