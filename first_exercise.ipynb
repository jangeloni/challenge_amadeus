{
  "nbformat": 4,
  "nbformat_minor": 0,
  "metadata": {
    "colab": {
      "name": "first_exercise.ipynb",
      "version": "0.3.2",
      "provenance": []
    },
    "kernelspec": {
      "name": "python3",
      "display_name": "Python 3"
    },
    "accelerator": "GPU"
  },
  "cells": [
    {
      "metadata": {
        "id": "OUV8kwmaiBRZ",
        "colab_type": "code",
        "colab": {
          "base_uri": "https://localhost:8080/",
          "height": 54
        },
        "outputId": "b7945930-8d67-47b4-c2c7-2468884dcbe3"
      },
      "cell_type": "code",
      "source": [
        "\"\"\"\n",
        "Amadeus Challenge : Data Scientist Position\n",
        "Author            : Angeloni Julien\n",
        "Date Creation     : 10/08/2018\n",
        "\n",
        "First Exercise - Count the number of lines in Python for each files\n",
        "\n",
        "Data              : bookings.csv & searches.csv\n",
        "\"\"\""
      ],
      "execution_count": 1,
      "outputs": [
        {
          "output_type": "execute_result",
          "data": {
            "text/plain": [
              "'\\nAmadeus Challenge : Data Scientist Position\\nAuthor            : Angeloni Julien\\nDate Creation     : 10/08/2018\\n\\nFirst Exercise - Count the number of lines in Python for each files\\n\\nData              : bookings.csv & searches.csv\\n'"
            ]
          },
          "metadata": {
            "tags": []
          },
          "execution_count": 1
        }
      ]
    },
    {
      "metadata": {
        "id": "G8Ob1Yf7jAOy",
        "colab_type": "code",
        "colab": {}
      },
      "cell_type": "code",
      "source": [
        "# LIBRARIES\n",
        "import pandas as pd\n",
        "from google.colab import drive"
      ],
      "execution_count": 0,
      "outputs": []
    },
    {
      "metadata": {
        "id": "ir0C7D1SjFP1",
        "colab_type": "code",
        "colab": {
          "base_uri": "https://localhost:8080/",
          "height": 122
        },
        "outputId": "dce5fe17-41e1-4b42-a630-3b500557b8b5"
      },
      "cell_type": "code",
      "source": [
        "# IMPORT FILES\n",
        "drive.mount('/content/gdrive')"
      ],
      "execution_count": 3,
      "outputs": [
        {
          "output_type": "stream",
          "text": [
            "Go to this URL in a browser: https://accounts.google.com/o/oauth2/auth?client_id=947318989803-6bn6qk8qdgf4n4g3pfee6491hc0brc4i.apps.googleusercontent.com&redirect_uri=urn%3Aietf%3Awg%3Aoauth%3A2.0%3Aoob&scope=email%20https%3A%2F%2Fwww.googleapis.com%2Fauth%2Fdocs.test%20https%3A%2F%2Fwww.googleapis.com%2Fauth%2Fdrive%20https%3A%2F%2Fwww.googleapis.com%2Fauth%2Fdrive.photos.readonly%20https%3A%2F%2Fwww.googleapis.com%2Fauth%2Fpeopleapi.readonly&response_type=code\n",
            "\n",
            "Enter your authorization code:\n",
            "··········\n",
            "Mounted at /content/gdrive\n"
          ],
          "name": "stdout"
        }
      ]
    },
    {
      "metadata": {
        "id": "UC63dL1TkGlY",
        "colab_type": "code",
        "colab": {}
      },
      "cell_type": "code",
      "source": [
        "# GLOBAL VARIABLES\n",
        "SEARCHES = '/content/gdrive/My Drive/Colab Notebooks/searches.csv'\n",
        "BOOKINGS = '/content/gdrive/My Drive/Colab Notebooks/bookings.csv'"
      ],
      "execution_count": 0,
      "outputs": []
    },
    {
      "metadata": {
        "id": "crWoOZDtta2i",
        "colab_type": "code",
        "colab": {}
      },
      "cell_type": "code",
      "source": [
        "# SOURCE DATAFRAMES\n",
        "\n",
        "# We use the first column only in order to manage our memory.\n",
        "# We just need the number of row, so one column is sufficient.\n",
        "SEARCHES_DF = pd.read_csv(SEARCHES, error_bad_lines=False, encoding='UTF8', sep='^', usecols=['Date'])\n",
        "BOOKINGS_DF = pd.read_csv(BOOKINGS, error_bad_lines=False, encoding='UTF8', sep='^', usecols=[0])"
      ],
      "execution_count": 0,
      "outputs": []
    },
    {
      "metadata": {
        "id": "Tz3qkkrVsGHD",
        "colab_type": "code",
        "colab": {
          "base_uri": "https://localhost:8080/",
          "height": 221
        },
        "outputId": "b7376cbf-09f6-4eaa-a54a-33c3454d9307"
      },
      "cell_type": "code",
      "source": [
        "# GET NUMBER OF LINE\n",
        "SEARCHES_DF.info()\n",
        "BOOKINGS_DF.info()"
      ],
      "execution_count": 13,
      "outputs": [
        {
          "output_type": "stream",
          "text": [
            "<class 'pandas.core.frame.DataFrame'>\n",
            "RangeIndex: 20390198 entries, 0 to 20390197\n",
            "Data columns (total 1 columns):\n",
            "Date    object\n",
            "dtypes: object(1)\n",
            "memory usage: 155.6+ MB\n",
            "<class 'pandas.core.frame.DataFrame'>\n",
            "RangeIndex: 10000010 entries, 0 to 10000009\n",
            "Data columns (total 1 columns):\n",
            "act_date               object\n",
            "dtypes: object(1)\n",
            "memory usage: 76.3+ MB\n"
          ],
          "name": "stdout"
        }
      ]
    },
    {
      "metadata": {
        "id": "CScQjTC3-bHv",
        "colab_type": "text"
      },
      "cell_type": "markdown",
      "source": [
        "Results for the fisrt exercise :\n",
        "\n",
        "*   **searches.csv** : 20 390 198 lines\n",
        "*   **bookings.csv** : 10 000 010 lines\n",
        "\n"
      ]
    },
    {
      "metadata": {
        "id": "25Z_88kQ1HuW",
        "colab_type": "code",
        "colab": {}
      },
      "cell_type": "code",
      "source": [
        "# ARCHITECTURES OF FILES\n",
        "SEARCHES_DF = pd.read_csv(SEARCHES, error_bad_lines=False, encoding='UTF8', sep='^', nrows=1)\n",
        "BOOKINGS_DF = pd.read_csv(BOOKINGS, error_bad_lines=False, encoding='UTF8', sep='^', nrows=1)"
      ],
      "execution_count": 0,
      "outputs": []
    },
    {
      "metadata": {
        "id": "ODMsVBxA_Z1M",
        "colab_type": "code",
        "colab": {
          "base_uri": "https://localhost:8080/",
          "height": 1598
        },
        "outputId": "11a79ec5-8286-4a9a-9eb8-223cd275470e"
      },
      "cell_type": "code",
      "source": [
        "# GET NUMBER OF LINE\n",
        "SEARCHES_DF.info()\n",
        "BOOKINGS_DF.info()"
      ],
      "execution_count": 15,
      "outputs": [
        {
          "output_type": "stream",
          "text": [
            "<class 'pandas.core.frame.DataFrame'>\n",
            "RangeIndex: 1 entries, 0 to 0\n",
            "Data columns (total 45 columns):\n",
            "Date                 1 non-null object\n",
            "Time                 1 non-null object\n",
            "TxnCode              1 non-null object\n",
            "OfficeID             1 non-null object\n",
            "Country              1 non-null object\n",
            "Origin               1 non-null object\n",
            "Destination          1 non-null object\n",
            "RoundTrip            1 non-null int64\n",
            "NbSegments           1 non-null int64\n",
            "Seg1Departure        1 non-null object\n",
            "Seg1Arrival          1 non-null object\n",
            "Seg1Date             1 non-null object\n",
            "Seg1Carrier          1 non-null object\n",
            "Seg1BookingCode      0 non-null float64\n",
            "Seg2Departure        1 non-null object\n",
            "Seg2Arrival          1 non-null object\n",
            "Seg2Date             1 non-null object\n",
            "Seg2Carrier          1 non-null object\n",
            "Seg2BookingCode      0 non-null float64\n",
            "Seg3Departure        0 non-null float64\n",
            "Seg3Arrival          0 non-null float64\n",
            "Seg3Date             0 non-null float64\n",
            "Seg3Carrier          0 non-null float64\n",
            "Seg3BookingCode      0 non-null float64\n",
            "Seg4Departure        0 non-null float64\n",
            "Seg4Arrival          0 non-null float64\n",
            "Seg4Date             0 non-null float64\n",
            "Seg4Carrier          0 non-null float64\n",
            "Seg4BookingCode      0 non-null float64\n",
            "Seg5Departure        0 non-null float64\n",
            "Seg5Arrival          0 non-null float64\n",
            "Seg5Date             0 non-null float64\n",
            "Seg5Carrier          0 non-null float64\n",
            "Seg5BookingCode      0 non-null float64\n",
            "Seg6Departure        0 non-null float64\n",
            "Seg6Arrival          0 non-null float64\n",
            "Seg6Date             0 non-null float64\n",
            "Seg6Carrier          0 non-null float64\n",
            "Seg6BookingCode      0 non-null float64\n",
            "From                 1 non-null object\n",
            "IsPublishedForNeg    1 non-null int64\n",
            "IsFromInternet       1 non-null int64\n",
            "IsFromVista          1 non-null int64\n",
            "TerminalID           1 non-null object\n",
            "InternetOffice       1 non-null object\n",
            "dtypes: float64(22), int64(5), object(18)\n",
            "memory usage: 440.0+ bytes\n",
            "<class 'pandas.core.frame.DataFrame'>\n",
            "RangeIndex: 1 entries, 0 to 0\n",
            "Data columns (total 38 columns):\n",
            "act_date               1 non-null object\n",
            "source                 1 non-null object\n",
            "pos_ctry               1 non-null object\n",
            "pos_iata               1 non-null object\n",
            "pos_oid                1 non-null object\n",
            "rloc                   1 non-null object\n",
            "cre_date               1 non-null object\n",
            "duration               1 non-null int64\n",
            "distance               1 non-null int64\n",
            "dep_port               1 non-null object\n",
            "dep_city               1 non-null object\n",
            "dep_ctry               1 non-null object\n",
            "arr_port               1 non-null object\n",
            "arr_city               1 non-null object\n",
            "arr_ctry               1 non-null object\n",
            "lst_port               1 non-null object\n",
            "lst_city               1 non-null object\n",
            "lst_ctry               1 non-null object\n",
            "brd_port               1 non-null object\n",
            "brd_city               1 non-null object\n",
            "brd_ctry               1 non-null object\n",
            "off_port               1 non-null object\n",
            "off_city               1 non-null object\n",
            "off_ctry               1 non-null object\n",
            "mkt_port               1 non-null object\n",
            "mkt_city               1 non-null object\n",
            "mkt_ctry               1 non-null object\n",
            "intl                   1 non-null int64\n",
            "route                  1 non-null object\n",
            "carrier                1 non-null object\n",
            "bkg_class              1 non-null object\n",
            "cab_class              1 non-null object\n",
            "brd_time               1 non-null object\n",
            "off_time               1 non-null object\n",
            "pax                    1 non-null int64\n",
            "year                   1 non-null int64\n",
            "month                  1 non-null int64\n",
            "oid                    1 non-null object\n",
            "dtypes: int64(6), object(32)\n",
            "memory usage: 384.0+ bytes\n"
          ],
          "name": "stdout"
        }
      ]
    },
    {
      "metadata": {
        "id": "HQtgQa8l_c7l",
        "colab_type": "code",
        "colab": {}
      },
      "cell_type": "code",
      "source": [
        ""
      ],
      "execution_count": 0,
      "outputs": []
    }
  ]
}