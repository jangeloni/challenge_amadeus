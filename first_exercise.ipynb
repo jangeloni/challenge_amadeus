{
  "nbformat": 4,
  "nbformat_minor": 0,
  "metadata": {
    "colab": {
      "name": "first_exercise.ipynb",
      "version": "0.3.2",
      "provenance": []
    },
    "kernelspec": {
      "name": "python3",
      "display_name": "Python 3"
    },
    "accelerator": "GPU"
  },
  "cells": [
    {
      "metadata": {
        "id": "OUV8kwmaiBRZ",
        "colab_type": "code",
        "colab": {
          "base_uri": "https://localhost:8080/",
          "height": 54
        },
        "outputId": "b7945930-8d67-47b4-c2c7-2468884dcbe3"
      },
      "cell_type": "code",
      "source": [
        "\"\"\"\n",
        "Amadeus Challenge : Data Scientist Position\n",
        "Author            : Angeloni Julien\n",
        "Date Creation     : 10/08/2018\n",
        "\n",
        "First Exercise - Count the number of lines in Python for each files\n",
        "\n",
        "Data              : bookings.csv & searches.csv\n",
        "\"\"\""
      ],
      "execution_count": 1,
      "outputs": [
        {
          "output_type": "execute_result",
          "data": {
            "text/plain": [
              "'\\nAmadeus Challenge : Data Scientist Position\\nAuthor            : Angeloni Julien\\nDate Creation     : 10/08/2018\\n\\nFirst Exercise - Count the number of lines in Python for each files\\n\\nData              : bookings.csv & searches.csv\\n'"
            ]
          },
          "metadata": {
            "tags": []
          },
          "execution_count": 1
        }
      ]
    },
    {
      "metadata": {
        "id": "G8Ob1Yf7jAOy",
        "colab_type": "code",
        "colab": {}
      },
      "cell_type": "code",
      "source": [
        "# LIBRARIES\n",
        "import pandas as pd\n",
        "from google.colab import drive"
      ],
      "execution_count": 0,
      "outputs": []
    },
    {
      "metadata": {
        "id": "ir0C7D1SjFP1",
        "colab_type": "code",
        "colab": {
          "base_uri": "https://localhost:8080/",
          "height": 122
        },
        "outputId": "dce5fe17-41e1-4b42-a630-3b500557b8b5"
      },
      "cell_type": "code",
      "source": [
        "# IMPORT FILES\n",
        "drive.mount('/content/gdrive')"
      ],
      "execution_count": 3,
      "outputs": [
        {
          "output_type": "stream",
          "text": [
            "Go to this URL in a browser: https://accounts.google.com/o/oauth2/auth?client_id=947318989803-6bn6qk8qdgf4n4g3pfee6491hc0brc4i.apps.googleusercontent.com&redirect_uri=urn%3Aietf%3Awg%3Aoauth%3A2.0%3Aoob&scope=email%20https%3A%2F%2Fwww.googleapis.com%2Fauth%2Fdocs.test%20https%3A%2F%2Fwww.googleapis.com%2Fauth%2Fdrive%20https%3A%2F%2Fwww.googleapis.com%2Fauth%2Fdrive.photos.readonly%20https%3A%2F%2Fwww.googleapis.com%2Fauth%2Fpeopleapi.readonly&response_type=code\n",
            "\n",
            "Enter your authorization code:\n",
            "··········\n",
            "Mounted at /content/gdrive\n"
          ],
          "name": "stdout"
        }
      ]
    },
    {
      "metadata": {
        "id": "UC63dL1TkGlY",
        "colab_type": "code",
        "colab": {}
      },
      "cell_type": "code",
      "source": [
        "# GLOBAL VARIABLES\n",
        "SEARCHES = '/content/gdrive/My Drive/Colab Notebooks/searches.csv'\n",
        "BOOKINGS = '/content/gdrive/My Drive/Colab Notebooks/bookings.csv'"
      ],
      "execution_count": 0,
      "outputs": []
    },
    {
      "metadata": {
        "id": "crWoOZDtta2i",
        "colab_type": "code",
        "colab": {}
      },
      "cell_type": "code",
      "source": [
        "# SOURCE DATAFRAMES\n",
        "\n",
        "# We use the first column only in order to manage our memory.\n",
        "# We just need the number of row, so one column is sufficient.\n",
        "SEARCHES_DF = pd.read_csv(SEARCHES, error_bad_lines=False, encoding='UTF8', sep='^', usecols=['Date'])\n",
        "BOOKINGS_DF = pd.read_csv(BOOKINGS, error_bad_lines=False, encoding='UTF8', sep='^', usecols=[0])"
      ],
      "execution_count": 0,
      "outputs": []
    },
    {
      "metadata": {
        "id": "Tz3qkkrVsGHD",
        "colab_type": "code",
        "colab": {
          "base_uri": "https://localhost:8080/",
          "height": 221
        },
        "outputId": "b7376cbf-09f6-4eaa-a54a-33c3454d9307"
      },
      "cell_type": "code",
      "source": [
        "# GET NUMBER OF LINE\n",
        "SEARCHES_DF.info()\n",
        "BOOKINGS_DF.info()"
      ],
      "execution_count": 13,
      "outputs": [
        {
          "output_type": "stream",
          "text": [
            "<class 'pandas.core.frame.DataFrame'>\n",
            "RangeIndex: 20390198 entries, 0 to 20390197\n",
            "Data columns (total 1 columns):\n",
            "Date    object\n",
            "dtypes: object(1)\n",
            "memory usage: 155.6+ MB\n",
            "<class 'pandas.core.frame.DataFrame'>\n",
            "RangeIndex: 10000010 entries, 0 to 10000009\n",
            "Data columns (total 1 columns):\n",
            "act_date               object\n",
            "dtypes: object(1)\n",
            "memory usage: 76.3+ MB\n"
          ],
          "name": "stdout"
        }
      ]
    },
    {
      "metadata": {
        "id": "CScQjTC3-bHv",
        "colab_type": "text"
      },
      "cell_type": "markdown",
      "source": [
        "Results for the fisrt exercise :\n",
        "\n",
        "*   **searches.csv** : 20 390 198 lines\n",
        "*   **bookings.csv** : 10 000 010 lines\n",
        "\n"
      ]
    },
    {
      "metadata": {
        "id": "25Z_88kQ1HuW",
        "colab_type": "code",
        "colab": {}
      },
      "cell_type": "code",
      "source": [
        ""
      ],
      "execution_count": 0,
      "outputs": []
    }
  ]
}