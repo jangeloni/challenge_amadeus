{
  "nbformat": 4,
  "nbformat_minor": 0,
  "metadata": {
    "colab": {
      "name": "first_exercise.ipynb",
      "version": "0.3.2",
      "provenance": []
    },
    "kernelspec": {
      "name": "python3",
      "display_name": "Python 3"
    }
  },
  "cells": [
    {
      "metadata": {
        "id": "OUV8kwmaiBRZ",
        "colab_type": "code",
        "colab": {
          "base_uri": "https://localhost:8080/",
          "height": 54
        },
        "outputId": "b7945930-8d67-47b4-c2c7-2468884dcbe3"
      },
      "cell_type": "code",
      "source": [
        "\"\"\"\n",
        "Amadeus Challenge : Data Scientist Position\n",
        "Author            : Angeloni Julien\n",
        "Date Creation     : 10/08/2018\n",
        "\n",
        "First Exercise - Count the number of lines in Python for each files\n",
        "\n",
        "Data              : bookings.csv & searches.csv\n",
        "\"\"\""
      ],
      "execution_count": 1,
      "outputs": [
        {
          "output_type": "execute_result",
          "data": {
            "text/plain": [
              "'\\nAmadeus Challenge : Data Scientist Position\\nAuthor            : Angeloni Julien\\nDate Creation     : 10/08/2018\\n\\nFirst Exercise - Count the number of lines in Python for each files\\n\\nData              : bookings.csv & searches.csv\\n'"
            ]
          },
          "metadata": {
            "tags": []
          },
          "execution_count": 1
        }
      ]
    },
    {
      "metadata": {
        "id": "G8Ob1Yf7jAOy",
        "colab_type": "code",
        "colab": {}
      },
      "cell_type": "code",
      "source": [
        "# LIBRARIES\n",
        "import pandas as pd\n",
        "from google.colab import drive"
      ],
      "execution_count": 0,
      "outputs": []
    },
    {
      "metadata": {
        "id": "ir0C7D1SjFP1",
        "colab_type": "code",
        "colab": {
          "base_uri": "https://localhost:8080/",
          "height": 122
        },
        "outputId": "f3b99490-ae69-49d5-8468-418e0082164f"
      },
      "cell_type": "code",
      "source": [
        "# IMPORT FILES\n",
        "drive.mount('/content/gdrive')"
      ],
      "execution_count": 9,
      "outputs": [
        {
          "output_type": "stream",
          "text": [
            "Go to this URL in a browser: https://accounts.google.com/o/oauth2/auth?client_id=947318989803-6bn6qk8qdgf4n4g3pfee6491hc0brc4i.apps.googleusercontent.com&redirect_uri=urn%3Aietf%3Awg%3Aoauth%3A2.0%3Aoob&scope=email%20https%3A%2F%2Fwww.googleapis.com%2Fauth%2Fdocs.test%20https%3A%2F%2Fwww.googleapis.com%2Fauth%2Fdrive%20https%3A%2F%2Fwww.googleapis.com%2Fauth%2Fdrive.photos.readonly%20https%3A%2F%2Fwww.googleapis.com%2Fauth%2Fpeopleapi.readonly&response_type=code\n",
            "\n",
            "Enter your authorization code:\n",
            "··········\n",
            "Mounted at /content/gdrive\n"
          ],
          "name": "stdout"
        }
      ]
    },
    {
      "metadata": {
        "id": "UC63dL1TkGlY",
        "colab_type": "code",
        "colab": {
          "base_uri": "https://localhost:8080/",
          "height": 323
        },
        "outputId": "226a3d5f-fad5-4435-f256-3729dc4c5dfc"
      },
      "cell_type": "code",
      "source": [
        "# GLOBAL VARIABLES\n",
        "SEARCHES = '/content/gdrive/My Drive/Colab Notebooks/searches.csv'\n",
        "BOOKINGS = '/content/gdrive/My Drive/Colab Notebooks/bookings.csv'\n"
      ],
      "execution_count": 15,
      "outputs": [
        {
          "output_type": "stream",
          "text": [
            "b'Skipping line 1436003: expected 1 fields, saw 45\\n'\n",
            "b'Skipping line 1795013: expected 1 fields, saw 45\\nSkipping line 1795023: expected 1 fields, saw 45\\n'\n",
            "b'Skipping line 3231033: expected 1 fields, saw 45\\nSkipping line 3590043: expected 1 fields, saw 45\\nSkipping line 3590053: expected 1 fields, saw 45\\n'\n",
            "b'Skipping line 5026063: expected 1 fields, saw 45\\n'\n",
            "b'Skipping line 5385073: expected 1 fields, saw 45\\nSkipping line 5385083: expected 1 fields, saw 45\\n'\n",
            "b'Skipping line 6821093: expected 1 fields, saw 45\\nSkipping line 7180103: expected 1 fields, saw 45\\nSkipping line 7180113: expected 1 fields, saw 45\\n'\n",
            "b'Skipping line 8616123: expected 1 fields, saw 45\\n'\n",
            "b'Skipping line 8975133: expected 1 fields, saw 45\\nSkipping line 8975143: expected 1 fields, saw 45\\n'\n",
            "b'Skipping line 10411153: expected 1 fields, saw 45\\n'\n",
            "b'Skipping line 10770163: expected 1 fields, saw 45\\nSkipping line 10770173: expected 1 fields, saw 45\\n'\n",
            "b'Skipping line 12206183: expected 1 fields, saw 45\\nSkipping line 12565193: expected 1 fields, saw 45\\nSkipping line 12565203: expected 1 fields, saw 45\\n'\n",
            "b'Skipping line 14001213: expected 1 fields, saw 45\\n'\n",
            "b'Skipping line 14360223: expected 1 fields, saw 45\\nSkipping line 14360233: expected 1 fields, saw 45\\n'\n",
            "b'Skipping line 15796243: expected 1 fields, saw 45\\nSkipping line 16155253: expected 1 fields, saw 45\\nSkipping line 16155263: expected 1 fields, saw 45\\n'\n",
            "b'Skipping line 17591273: expected 1 fields, saw 45\\n'\n",
            "b'Skipping line 17950283: expected 1 fields, saw 45\\nSkipping line 17950293: expected 1 fields, saw 45\\n'\n",
            "b'Skipping line 19386303: expected 1 fields, saw 45\\n'\n",
            "b'Skipping line 19745313: expected 1 fields, saw 45\\nSkipping line 19745323: expected 1 fields, saw 45\\n'\n"
          ],
          "name": "stderr"
        }
      ]
    },
    {
      "metadata": {
        "id": "crWoOZDtta2i",
        "colab_type": "code",
        "colab": {
          "base_uri": "https://localhost:8080/",
          "height": 224
        },
        "outputId": "a1120a5b-888d-4991-86b7-f32d3e9f8754"
      },
      "cell_type": "code",
      "source": [
        "# SOURCE DATAFRAMES\n",
        "SEARCHES_DF = pd.read_csv(SEARCHES, error_bad_lines=False, encoding='UTF8', delimiter='^')\n",
        "BOOKINGS_DF = pd.read_csv(BOOKINGS, error_bad_lines=False, encoding='UTF8', delimiter='^')"
      ],
      "execution_count": 16,
      "outputs": [
        {
          "output_type": "execute_result",
          "data": {
            "text/html": [
              "<div>\n",
              "<style scoped>\n",
              "    .dataframe tbody tr th:only-of-type {\n",
              "        vertical-align: middle;\n",
              "    }\n",
              "\n",
              "    .dataframe tbody tr th {\n",
              "        vertical-align: top;\n",
              "    }\n",
              "\n",
              "    .dataframe thead th {\n",
              "        text-align: right;\n",
              "    }\n",
              "</style>\n",
              "<table border=\"1\" class=\"dataframe\">\n",
              "  <thead>\n",
              "    <tr style=\"text-align: right;\">\n",
              "      <th></th>\n",
              "      <th>Date^Time^TxnCode^OfficeID^Country^Origin^Destination^RoundTrip^NbSegments^Seg1Departure^Seg1Arrival^Seg1Date^Seg1Carrier^Seg1BookingCode^Seg2Departure^Seg2Arrival^Seg2Date^Seg2Carrier^Seg2BookingCode^Seg3Departure^Seg3Arrival^Seg3Date^Seg3Carrier^Seg3BookingCode^Seg4Departure^Seg4Arrival^Seg4Date^Seg4Carrier^Seg4BookingCode^Seg5Departure^Seg5Arrival^Seg5Date^Seg5Carrier^Seg5BookingCode^Seg6Departure^Seg6Arrival^Seg6Date^Seg6Carrier^Seg6BookingCode^From^IsPublishedForNeg^IsFromInternet^IsFromVista^TerminalID^InternetOffice</th>\n",
              "    </tr>\n",
              "  </thead>\n",
              "  <tbody>\n",
              "    <tr>\n",
              "      <th>0</th>\n",
              "      <td>2013-01-01^20:25:57^MPT^624d8c3ac0b3a7ca03e3c1...</td>\n",
              "    </tr>\n",
              "    <tr>\n",
              "      <th>1</th>\n",
              "      <td>2013-01-01^10:15:33^MPT^b0af35b31588dc4ab06d5c...</td>\n",
              "    </tr>\n",
              "    <tr>\n",
              "      <th>2</th>\n",
              "      <td>2013-01-01^18:04:49^MPT^3561a60621de06ab1badc8...</td>\n",
              "    </tr>\n",
              "    <tr>\n",
              "      <th>3</th>\n",
              "      <td>2013-01-01^17:42:40^FXP^1864e5e8013d9414150e91...</td>\n",
              "    </tr>\n",
              "    <tr>\n",
              "      <th>4</th>\n",
              "      <td>2013-01-01^17:48:29^MPT^1ec336348f44207d2e0027...</td>\n",
              "    </tr>\n",
              "  </tbody>\n",
              "</table>\n",
              "</div>"
            ],
            "text/plain": [
              "  Date^Time^TxnCode^OfficeID^Country^Origin^Destination^RoundTrip^NbSegments^Seg1Departure^Seg1Arrival^Seg1Date^Seg1Carrier^Seg1BookingCode^Seg2Departure^Seg2Arrival^Seg2Date^Seg2Carrier^Seg2BookingCode^Seg3Departure^Seg3Arrival^Seg3Date^Seg3Carrier^Seg3BookingCode^Seg4Departure^Seg4Arrival^Seg4Date^Seg4Carrier^Seg4BookingCode^Seg5Departure^Seg5Arrival^Seg5Date^Seg5Carrier^Seg5BookingCode^Seg6Departure^Seg6Arrival^Seg6Date^Seg6Carrier^Seg6BookingCode^From^IsPublishedForNeg^IsFromInternet^IsFromVista^TerminalID^InternetOffice\n",
              "0  2013-01-01^20:25:57^MPT^624d8c3ac0b3a7ca03e3c1...                                                                                                                                                                                                                                                                                                                                                                                                                                                                                              \n",
              "1  2013-01-01^10:15:33^MPT^b0af35b31588dc4ab06d5c...                                                                                                                                                                                                                                                                                                                                                                                                                                                                                              \n",
              "2  2013-01-01^18:04:49^MPT^3561a60621de06ab1badc8...                                                                                                                                                                                                                                                                                                                                                                                                                                                                                              \n",
              "3  2013-01-01^17:42:40^FXP^1864e5e8013d9414150e91...                                                                                                                                                                                                                                                                                                                                                                                                                                                                                              \n",
              "4  2013-01-01^17:48:29^MPT^1ec336348f44207d2e0027...                                                                                                                                                                                                                                                                                                                                                                                                                                                                                              "
            ]
          },
          "metadata": {
            "tags": []
          },
          "execution_count": 16
        }
      ]
    },
    {
      "metadata": {
        "id": "Tz3qkkrVsGHD",
        "colab_type": "code",
        "colab": {}
      },
      "cell_type": "code",
      "source": [
        ""
      ],
      "execution_count": 0,
      "outputs": []
    }
  ]
}